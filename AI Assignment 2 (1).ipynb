{
 "cells": [
  {
   "cell_type": "markdown",
   "metadata": {},
   "source": [
    "# AI Assignment 2\n",
    "#### Yeldos Alimkul- 170201019\n",
    "#### Tomiris Zhumasheva- 170201002\n",
    "#### Lyazzat Abilmazhinova- 170201018"
   ]
  },
  {
   "cell_type": "code",
   "execution_count": 1,
   "metadata": {},
   "outputs": [],
   "source": [
    "import pandas as pd\n",
    "import numpy as np\n",
    "import matplotlib as plt\n",
    "import seaborn as sns"
   ]
  },
  {
   "cell_type": "markdown",
   "metadata": {},
   "source": [
    "import pandas allows us to convert data into tables, so firstly in order to, i converted pandas into \"pd\"."
   ]
  },
  {
   "cell_type": "code",
   "execution_count": 7,
   "metadata": {},
   "outputs": [],
   "source": [
    "ytl= pd.read_csv('TableAI.csv', sep=';')"
   ]
  },
  {
   "cell_type": "markdown",
   "metadata": {},
   "source": [
    "here i took initial folder with this ipynb file and TableAI.csv(which consists of data) and then wrote this code to bring this data here."
   ]
  },
  {
   "cell_type": "code",
   "execution_count": 6,
   "metadata": {},
   "outputs": [
    {
     "data": {
      "text/html": [
       "<div>\n",
       "<style scoped>\n",
       "    .dataframe tbody tr th:only-of-type {\n",
       "        vertical-align: middle;\n",
       "    }\n",
       "\n",
       "    .dataframe tbody tr th {\n",
       "        vertical-align: top;\n",
       "    }\n",
       "\n",
       "    .dataframe thead th {\n",
       "        text-align: right;\n",
       "    }\n",
       "</style>\n",
       "<table border=\"1\" class=\"dataframe\">\n",
       "  <thead>\n",
       "    <tr style=\"text-align: right;\">\n",
       "      <th></th>\n",
       "      <th>name</th>\n",
       "      <th>age</th>\n",
       "      <th>gender</th>\n",
       "      <th>marital status</th>\n",
       "      <th>previous</th>\n",
       "      <th>kids</th>\n",
       "      <th>education</th>\n",
       "      <th>job</th>\n",
       "      <th>house</th>\n",
       "      <th>deposit</th>\n",
       "      <th>loan</th>\n",
       "    </tr>\n",
       "  </thead>\n",
       "  <tbody>\n",
       "    <tr>\n",
       "      <td>0</td>\n",
       "      <td>Abulkhair Mustafin</td>\n",
       "      <td>46</td>\n",
       "      <td>Male</td>\n",
       "      <td>Married</td>\n",
       "      <td>4</td>\n",
       "      <td>Yes</td>\n",
       "      <td>Master degree</td>\n",
       "      <td>Pharmacist</td>\n",
       "      <td>Yes</td>\n",
       "      <td>Yes</td>\n",
       "      <td>No</td>\n",
       "    </tr>\n",
       "    <tr>\n",
       "      <td>1</td>\n",
       "      <td>Abylaikhan Talip</td>\n",
       "      <td>25</td>\n",
       "      <td>Male</td>\n",
       "      <td>Divorced</td>\n",
       "      <td>1</td>\n",
       "      <td>No</td>\n",
       "      <td>Master degree</td>\n",
       "      <td>Intern</td>\n",
       "      <td>Yes</td>\n",
       "      <td>Yes</td>\n",
       "      <td>No</td>\n",
       "    </tr>\n",
       "    <tr>\n",
       "      <td>2</td>\n",
       "      <td>Ahmet Syzdykov</td>\n",
       "      <td>38</td>\n",
       "      <td>Male</td>\n",
       "      <td>Single</td>\n",
       "      <td>3</td>\n",
       "      <td>Yes</td>\n",
       "      <td>Bachelor degree</td>\n",
       "      <td>Entrepreneur</td>\n",
       "      <td>Yes</td>\n",
       "      <td>No</td>\n",
       "      <td>No</td>\n",
       "    </tr>\n",
       "    <tr>\n",
       "      <td>3</td>\n",
       "      <td>Aigerim Nurgaliyeva</td>\n",
       "      <td>58</td>\n",
       "      <td>Female</td>\n",
       "      <td>Married</td>\n",
       "      <td>5</td>\n",
       "      <td>Yes</td>\n",
       "      <td>High school</td>\n",
       "      <td>Unemployed</td>\n",
       "      <td>Yes</td>\n",
       "      <td>No</td>\n",
       "      <td>No</td>\n",
       "    </tr>\n",
       "    <tr>\n",
       "      <td>4</td>\n",
       "      <td>Ainu Alimkulova</td>\n",
       "      <td>44</td>\n",
       "      <td>Female</td>\n",
       "      <td>Married</td>\n",
       "      <td>4</td>\n",
       "      <td>No</td>\n",
       "      <td>Bachelor degree</td>\n",
       "      <td>Baby sitter</td>\n",
       "      <td>Yes</td>\n",
       "      <td>Yes</td>\n",
       "      <td>No</td>\n",
       "    </tr>\n",
       "    <tr>\n",
       "      <td>...</td>\n",
       "      <td>...</td>\n",
       "      <td>...</td>\n",
       "      <td>...</td>\n",
       "      <td>...</td>\n",
       "      <td>...</td>\n",
       "      <td>...</td>\n",
       "      <td>...</td>\n",
       "      <td>...</td>\n",
       "      <td>...</td>\n",
       "      <td>...</td>\n",
       "      <td>...</td>\n",
       "    </tr>\n",
       "    <tr>\n",
       "      <td>98</td>\n",
       "      <td>Zhasmin Yespenova</td>\n",
       "      <td>20</td>\n",
       "      <td>Female</td>\n",
       "      <td>Single</td>\n",
       "      <td>0</td>\n",
       "      <td>No</td>\n",
       "      <td>Student</td>\n",
       "      <td>Designer</td>\n",
       "      <td>Yes</td>\n",
       "      <td>Yes</td>\n",
       "      <td>No</td>\n",
       "    </tr>\n",
       "    <tr>\n",
       "      <td>99</td>\n",
       "      <td>Zhdan Kotov</td>\n",
       "      <td>48</td>\n",
       "      <td>Male</td>\n",
       "      <td>Single</td>\n",
       "      <td>3</td>\n",
       "      <td>Yes</td>\n",
       "      <td>Bachelor degree</td>\n",
       "      <td>Translator</td>\n",
       "      <td>Yes</td>\n",
       "      <td>Yes</td>\n",
       "      <td>Yes</td>\n",
       "    </tr>\n",
       "    <tr>\n",
       "      <td>100</td>\n",
       "      <td>Zhenis Ahmetov</td>\n",
       "      <td>47</td>\n",
       "      <td>Male</td>\n",
       "      <td>Married</td>\n",
       "      <td>4</td>\n",
       "      <td>No</td>\n",
       "      <td>College</td>\n",
       "      <td>Electrician</td>\n",
       "      <td>No</td>\n",
       "      <td>No</td>\n",
       "      <td>No</td>\n",
       "    </tr>\n",
       "    <tr>\n",
       "      <td>101</td>\n",
       "      <td>Zhibek Omirzakova</td>\n",
       "      <td>25</td>\n",
       "      <td>Female</td>\n",
       "      <td>Married</td>\n",
       "      <td>1</td>\n",
       "      <td>Yes</td>\n",
       "      <td>Master degree</td>\n",
       "      <td>Advocate</td>\n",
       "      <td>Yes</td>\n",
       "      <td>Yes</td>\n",
       "      <td>Yes</td>\n",
       "    </tr>\n",
       "    <tr>\n",
       "      <td>102</td>\n",
       "      <td>Zhiger Hohlov</td>\n",
       "      <td>25</td>\n",
       "      <td>Male</td>\n",
       "      <td>Single</td>\n",
       "      <td>0</td>\n",
       "      <td>Yes</td>\n",
       "      <td>Bachelor degree</td>\n",
       "      <td>Chef</td>\n",
       "      <td>Yes</td>\n",
       "      <td>No</td>\n",
       "      <td>No</td>\n",
       "    </tr>\n",
       "  </tbody>\n",
       "</table>\n",
       "<p>103 rows × 11 columns</p>\n",
       "</div>"
      ],
      "text/plain": [
       "                    name  age  gender marital status  previous kids  \\\n",
       "0     Abulkhair Mustafin   46    Male        Married         4  Yes   \n",
       "1       Abylaikhan Talip   25    Male       Divorced         1   No   \n",
       "2         Ahmet Syzdykov   38    Male         Single         3  Yes   \n",
       "3    Aigerim Nurgaliyeva   58  Female        Married         5  Yes   \n",
       "4        Ainu Alimkulova   44  Female        Married         4   No   \n",
       "..                   ...  ...     ...            ...       ...  ...   \n",
       "98     Zhasmin Yespenova   20  Female         Single         0   No   \n",
       "99           Zhdan Kotov   48    Male         Single         3  Yes   \n",
       "100       Zhenis Ahmetov   47    Male        Married         4   No   \n",
       "101    Zhibek Omirzakova   25  Female        Married         1  Yes   \n",
       "102        Zhiger Hohlov   25    Male         Single         0  Yes   \n",
       "\n",
       "          education            job  house deposit  loan  \n",
       "0      Master degree     Pharmacist   Yes      Yes   No  \n",
       "1      Master degree         Intern   Yes      Yes   No  \n",
       "2    Bachelor degree  Entrepreneur    Yes       No   No  \n",
       "3        High school    Unemployed    Yes       No   No  \n",
       "4    Bachelor degree    Baby sitter   Yes      Yes   No  \n",
       "..               ...            ...   ...      ...  ...  \n",
       "98           Student       Designer   Yes      Yes   No  \n",
       "99   Bachelor degree     Translator   Yes      Yes  Yes  \n",
       "100         College     Electrician    No       No   No  \n",
       "101    Master degree       Advocate   Yes      Yes  Yes  \n",
       "102  Bachelor degree           Chef   Yes       No   No  \n",
       "\n",
       "[103 rows x 11 columns]"
      ]
     },
     "execution_count": 6,
     "metadata": {},
     "output_type": "execute_result"
    }
   ],
   "source": [
    "ytl"
   ]
  },
  {
   "cell_type": "markdown",
   "metadata": {},
   "source": [
    "\"ytl\" code shows us found data in a table. In this table we can observe that here  are 103 rows of data (actually 103 people) and 10 columns(consists of observables). So actually they give us data about people who have a deal with this bank."
   ]
  },
  {
   "cell_type": "code",
   "execution_count": 8,
   "metadata": {},
   "outputs": [
    {
     "data": {
      "text/html": [
       "<div>\n",
       "<style scoped>\n",
       "    .dataframe tbody tr th:only-of-type {\n",
       "        vertical-align: middle;\n",
       "    }\n",
       "\n",
       "    .dataframe tbody tr th {\n",
       "        vertical-align: top;\n",
       "    }\n",
       "\n",
       "    .dataframe thead th {\n",
       "        text-align: right;\n",
       "    }\n",
       "</style>\n",
       "<table border=\"1\" class=\"dataframe\">\n",
       "  <thead>\n",
       "    <tr style=\"text-align: right;\">\n",
       "      <th></th>\n",
       "      <th>name</th>\n",
       "      <th>age</th>\n",
       "      <th>gender</th>\n",
       "      <th>marital status</th>\n",
       "      <th>previous</th>\n",
       "      <th>kids</th>\n",
       "      <th>education</th>\n",
       "      <th>job</th>\n",
       "      <th>house</th>\n",
       "      <th>deposit</th>\n",
       "      <th>loan</th>\n",
       "    </tr>\n",
       "  </thead>\n",
       "  <tbody>\n",
       "    <tr>\n",
       "      <td>0</td>\n",
       "      <td>Abulkhair Mustafin</td>\n",
       "      <td>46</td>\n",
       "      <td>Male</td>\n",
       "      <td>Married</td>\n",
       "      <td>4</td>\n",
       "      <td>Yes</td>\n",
       "      <td>Master degree</td>\n",
       "      <td>Pharmacist</td>\n",
       "      <td>Yes</td>\n",
       "      <td>Yes</td>\n",
       "      <td>No</td>\n",
       "    </tr>\n",
       "    <tr>\n",
       "      <td>1</td>\n",
       "      <td>Abylaikhan Talip</td>\n",
       "      <td>25</td>\n",
       "      <td>Male</td>\n",
       "      <td>Divorced</td>\n",
       "      <td>1</td>\n",
       "      <td>No</td>\n",
       "      <td>Master degree</td>\n",
       "      <td>Intern</td>\n",
       "      <td>Yes</td>\n",
       "      <td>Yes</td>\n",
       "      <td>No</td>\n",
       "    </tr>\n",
       "    <tr>\n",
       "      <td>2</td>\n",
       "      <td>Ahmet Syzdykov</td>\n",
       "      <td>38</td>\n",
       "      <td>Male</td>\n",
       "      <td>Single</td>\n",
       "      <td>3</td>\n",
       "      <td>Yes</td>\n",
       "      <td>Bachelor degree</td>\n",
       "      <td>Entrepreneur</td>\n",
       "      <td>Yes</td>\n",
       "      <td>No</td>\n",
       "      <td>No</td>\n",
       "    </tr>\n",
       "    <tr>\n",
       "      <td>3</td>\n",
       "      <td>Aigerim Nurgaliyeva</td>\n",
       "      <td>58</td>\n",
       "      <td>Female</td>\n",
       "      <td>Married</td>\n",
       "      <td>5</td>\n",
       "      <td>Yes</td>\n",
       "      <td>High school</td>\n",
       "      <td>Unemployed</td>\n",
       "      <td>Yes</td>\n",
       "      <td>No</td>\n",
       "      <td>No</td>\n",
       "    </tr>\n",
       "    <tr>\n",
       "      <td>4</td>\n",
       "      <td>Ainu Alimkulova</td>\n",
       "      <td>44</td>\n",
       "      <td>Female</td>\n",
       "      <td>Married</td>\n",
       "      <td>4</td>\n",
       "      <td>No</td>\n",
       "      <td>Bachelor degree</td>\n",
       "      <td>Baby sitter</td>\n",
       "      <td>Yes</td>\n",
       "      <td>Yes</td>\n",
       "      <td>No</td>\n",
       "    </tr>\n",
       "    <tr>\n",
       "      <td>5</td>\n",
       "      <td>Aituar Yerimbetova</td>\n",
       "      <td>20</td>\n",
       "      <td>Female</td>\n",
       "      <td>Single</td>\n",
       "      <td>0</td>\n",
       "      <td>No</td>\n",
       "      <td>Student</td>\n",
       "      <td>Waitress</td>\n",
       "      <td>No</td>\n",
       "      <td>No</td>\n",
       "      <td>Yes</td>\n",
       "    </tr>\n",
       "    <tr>\n",
       "      <td>6</td>\n",
       "      <td>Akbota Auken</td>\n",
       "      <td>20</td>\n",
       "      <td>Female</td>\n",
       "      <td>Single</td>\n",
       "      <td>0</td>\n",
       "      <td>No</td>\n",
       "      <td>Student</td>\n",
       "      <td>Nail master</td>\n",
       "      <td>No</td>\n",
       "      <td>Yes</td>\n",
       "      <td>No</td>\n",
       "    </tr>\n",
       "    <tr>\n",
       "      <td>7</td>\n",
       "      <td>Aknur Nurzhanova</td>\n",
       "      <td>30</td>\n",
       "      <td>Female</td>\n",
       "      <td>Married</td>\n",
       "      <td>3</td>\n",
       "      <td>No</td>\n",
       "      <td>Master degree</td>\n",
       "      <td>Accountant</td>\n",
       "      <td>No</td>\n",
       "      <td>Yes</td>\n",
       "      <td>Yes</td>\n",
       "    </tr>\n",
       "    <tr>\n",
       "      <td>8</td>\n",
       "      <td>Aleksey Ivanov</td>\n",
       "      <td>23</td>\n",
       "      <td>Male</td>\n",
       "      <td>Single</td>\n",
       "      <td>1</td>\n",
       "      <td>No</td>\n",
       "      <td>Bachelor degree</td>\n",
       "      <td>Intern</td>\n",
       "      <td>No</td>\n",
       "      <td>Yes</td>\n",
       "      <td>No</td>\n",
       "    </tr>\n",
       "    <tr>\n",
       "      <td>9</td>\n",
       "      <td>Alibek Baktybekuly</td>\n",
       "      <td>40</td>\n",
       "      <td>Male</td>\n",
       "      <td>Divorced</td>\n",
       "      <td>2</td>\n",
       "      <td>No</td>\n",
       "      <td>Master degree</td>\n",
       "      <td>Marketing specialist</td>\n",
       "      <td>Yes</td>\n",
       "      <td>Yes</td>\n",
       "      <td>Yes</td>\n",
       "    </tr>\n",
       "  </tbody>\n",
       "</table>\n",
       "</div>"
      ],
      "text/plain": [
       "                  name  age  gender marital status  previous kids  \\\n",
       "0   Abulkhair Mustafin   46    Male        Married         4  Yes   \n",
       "1     Abylaikhan Talip   25    Male       Divorced         1   No   \n",
       "2       Ahmet Syzdykov   38    Male         Single         3  Yes   \n",
       "3  Aigerim Nurgaliyeva   58  Female        Married         5  Yes   \n",
       "4      Ainu Alimkulova   44  Female        Married         4   No   \n",
       "5   Aituar Yerimbetova   20  Female         Single         0   No   \n",
       "6         Akbota Auken   20  Female         Single         0   No   \n",
       "7     Aknur Nurzhanova   30  Female        Married         3   No   \n",
       "8       Aleksey Ivanov   23    Male         Single         1   No   \n",
       "9  Alibek Baktybekuly    40    Male       Divorced         2   No   \n",
       "\n",
       "        education                   job  house deposit  loan  \n",
       "0    Master degree            Pharmacist   Yes      Yes   No  \n",
       "1    Master degree                Intern   Yes      Yes   No  \n",
       "2  Bachelor degree         Entrepreneur    Yes       No   No  \n",
       "3      High school           Unemployed    Yes       No   No  \n",
       "4  Bachelor degree           Baby sitter   Yes      Yes   No  \n",
       "5          Student             Waitress     No       No  Yes  \n",
       "6          Student           Nail master    No      Yes   No  \n",
       "7    Master degree            Accountant    No      Yes  Yes  \n",
       "8  Bachelor degree                Intern    No      Yes   No  \n",
       "9    Master degree  Marketing specialist   Yes      Yes  Yes  "
      ]
     },
     "execution_count": 8,
     "metadata": {},
     "output_type": "execute_result"
    }
   ],
   "source": [
    "ytl.head(10)"
   ]
  },
  {
   "cell_type": "markdown",
   "metadata": {},
   "source": [
    "'ytl.head(10)' code shows us information about 10 people in the head and () in this brackets we can input numers till 103."
   ]
  },
  {
   "cell_type": "code",
   "execution_count": 9,
   "metadata": {},
   "outputs": [
    {
     "data": {
      "text/html": [
       "<div>\n",
       "<style scoped>\n",
       "    .dataframe tbody tr th:only-of-type {\n",
       "        vertical-align: middle;\n",
       "    }\n",
       "\n",
       "    .dataframe tbody tr th {\n",
       "        vertical-align: top;\n",
       "    }\n",
       "\n",
       "    .dataframe thead th {\n",
       "        text-align: right;\n",
       "    }\n",
       "</style>\n",
       "<table border=\"1\" class=\"dataframe\">\n",
       "  <thead>\n",
       "    <tr style=\"text-align: right;\">\n",
       "      <th></th>\n",
       "      <th>name</th>\n",
       "      <th>age</th>\n",
       "      <th>gender</th>\n",
       "      <th>marital status</th>\n",
       "      <th>previous</th>\n",
       "      <th>kids</th>\n",
       "      <th>education</th>\n",
       "      <th>job</th>\n",
       "      <th>house</th>\n",
       "      <th>deposit</th>\n",
       "      <th>loan</th>\n",
       "    </tr>\n",
       "  </thead>\n",
       "  <tbody>\n",
       "    <tr>\n",
       "      <td>98</td>\n",
       "      <td>Zhasmin Yespenova</td>\n",
       "      <td>20</td>\n",
       "      <td>Female</td>\n",
       "      <td>Single</td>\n",
       "      <td>0</td>\n",
       "      <td>No</td>\n",
       "      <td>Student</td>\n",
       "      <td>Designer</td>\n",
       "      <td>Yes</td>\n",
       "      <td>Yes</td>\n",
       "      <td>No</td>\n",
       "    </tr>\n",
       "    <tr>\n",
       "      <td>99</td>\n",
       "      <td>Zhdan Kotov</td>\n",
       "      <td>48</td>\n",
       "      <td>Male</td>\n",
       "      <td>Single</td>\n",
       "      <td>3</td>\n",
       "      <td>Yes</td>\n",
       "      <td>Bachelor degree</td>\n",
       "      <td>Translator</td>\n",
       "      <td>Yes</td>\n",
       "      <td>Yes</td>\n",
       "      <td>Yes</td>\n",
       "    </tr>\n",
       "    <tr>\n",
       "      <td>100</td>\n",
       "      <td>Zhenis Ahmetov</td>\n",
       "      <td>47</td>\n",
       "      <td>Male</td>\n",
       "      <td>Married</td>\n",
       "      <td>4</td>\n",
       "      <td>No</td>\n",
       "      <td>College</td>\n",
       "      <td>Electrician</td>\n",
       "      <td>No</td>\n",
       "      <td>No</td>\n",
       "      <td>No</td>\n",
       "    </tr>\n",
       "    <tr>\n",
       "      <td>101</td>\n",
       "      <td>Zhibek Omirzakova</td>\n",
       "      <td>25</td>\n",
       "      <td>Female</td>\n",
       "      <td>Married</td>\n",
       "      <td>1</td>\n",
       "      <td>Yes</td>\n",
       "      <td>Master degree</td>\n",
       "      <td>Advocate</td>\n",
       "      <td>Yes</td>\n",
       "      <td>Yes</td>\n",
       "      <td>Yes</td>\n",
       "    </tr>\n",
       "    <tr>\n",
       "      <td>102</td>\n",
       "      <td>Zhiger Hohlov</td>\n",
       "      <td>25</td>\n",
       "      <td>Male</td>\n",
       "      <td>Single</td>\n",
       "      <td>0</td>\n",
       "      <td>Yes</td>\n",
       "      <td>Bachelor degree</td>\n",
       "      <td>Chef</td>\n",
       "      <td>Yes</td>\n",
       "      <td>No</td>\n",
       "      <td>No</td>\n",
       "    </tr>\n",
       "  </tbody>\n",
       "</table>\n",
       "</div>"
      ],
      "text/plain": [
       "                  name  age  gender marital status  previous kids  \\\n",
       "98   Zhasmin Yespenova   20  Female         Single         0   No   \n",
       "99         Zhdan Kotov   48    Male         Single         3  Yes   \n",
       "100     Zhenis Ahmetov   47    Male        Married         4   No   \n",
       "101  Zhibek Omirzakova   25  Female        Married         1  Yes   \n",
       "102      Zhiger Hohlov   25    Male         Single         0  Yes   \n",
       "\n",
       "          education          job  house deposit  loan  \n",
       "98           Student     Designer   Yes      Yes   No  \n",
       "99   Bachelor degree   Translator   Yes      Yes  Yes  \n",
       "100         College   Electrician    No       No   No  \n",
       "101    Master degree     Advocate   Yes      Yes  Yes  \n",
       "102  Bachelor degree         Chef   Yes       No   No  "
      ]
     },
     "execution_count": 9,
     "metadata": {},
     "output_type": "execute_result"
    }
   ],
   "source": [
    "ytl.tail()"
   ]
  },
  {
   "cell_type": "markdown",
   "metadata": {},
   "source": [
    "\n",
    "\"ytl.tail()\" code shows last five rows and here we can also put numbers till 103."
   ]
  },
  {
   "cell_type": "code",
   "execution_count": 10,
   "metadata": {},
   "outputs": [
    {
     "name": "stdout",
     "output_type": "stream",
     "text": [
      "<class 'pandas.core.frame.DataFrame'>\n",
      "RangeIndex: 103 entries, 0 to 102\n",
      "Data columns (total 11 columns):\n",
      "name              103 non-null object\n",
      "age               103 non-null int64\n",
      "gender            103 non-null object\n",
      "marital status    103 non-null object\n",
      "previous          103 non-null int64\n",
      "kids              103 non-null object\n",
      "education         103 non-null object\n",
      "job               103 non-null object\n",
      "house             103 non-null object\n",
      "deposit           103 non-null object\n",
      "loan              103 non-null object\n",
      "dtypes: int64(2), object(9)\n",
      "memory usage: 5.3+ KB\n"
     ]
    }
   ],
   "source": [
    "ytl.info()"
   ]
  },
  {
   "cell_type": "markdown",
   "metadata": {},
   "source": [
    "code 'ytl.info()' shows us information about memory usage, range, how much observables(data columns) we have and how much of them numeric(int64) and how much of them objective(not numeric)."
   ]
  },
  {
   "cell_type": "code",
   "execution_count": 11,
   "metadata": {},
   "outputs": [
    {
     "data": {
      "text/html": [
       "<div>\n",
       "<style scoped>\n",
       "    .dataframe tbody tr th:only-of-type {\n",
       "        vertical-align: middle;\n",
       "    }\n",
       "\n",
       "    .dataframe tbody tr th {\n",
       "        vertical-align: top;\n",
       "    }\n",
       "\n",
       "    .dataframe thead th {\n",
       "        text-align: right;\n",
       "    }\n",
       "</style>\n",
       "<table border=\"1\" class=\"dataframe\">\n",
       "  <thead>\n",
       "    <tr style=\"text-align: right;\">\n",
       "      <th></th>\n",
       "      <th>age</th>\n",
       "      <th>previous</th>\n",
       "    </tr>\n",
       "  </thead>\n",
       "  <tbody>\n",
       "    <tr>\n",
       "      <td>age</td>\n",
       "      <td>1.000000</td>\n",
       "      <td>0.710405</td>\n",
       "    </tr>\n",
       "    <tr>\n",
       "      <td>previous</td>\n",
       "      <td>0.710405</td>\n",
       "      <td>1.000000</td>\n",
       "    </tr>\n",
       "  </tbody>\n",
       "</table>\n",
       "</div>"
      ],
      "text/plain": [
       "               age  previous\n",
       "age       1.000000  0.710405\n",
       "previous  0.710405  1.000000"
      ]
     },
     "execution_count": 11,
     "metadata": {},
     "output_type": "execute_result"
    }
   ],
   "source": [
    "ytl.corr(method= 'pearson')"
   ]
  },
  {
   "cell_type": "markdown",
   "metadata": {},
   "source": [
    "ytl.corr by pearson method shows us correleation between numeric data. Here we can notice that 'age' and 'previos' has positive correlation(which means that if one icreases, second one also increases)."
   ]
  },
  {
   "cell_type": "code",
   "execution_count": 12,
   "metadata": {},
   "outputs": [
    {
     "data": {
      "text/html": [
       "<div>\n",
       "<style scoped>\n",
       "    .dataframe tbody tr th:only-of-type {\n",
       "        vertical-align: middle;\n",
       "    }\n",
       "\n",
       "    .dataframe tbody tr th {\n",
       "        vertical-align: top;\n",
       "    }\n",
       "\n",
       "    .dataframe thead th {\n",
       "        text-align: right;\n",
       "    }\n",
       "</style>\n",
       "<table border=\"1\" class=\"dataframe\">\n",
       "  <thead>\n",
       "    <tr style=\"text-align: right;\">\n",
       "      <th></th>\n",
       "      <th>age</th>\n",
       "      <th>previous</th>\n",
       "    </tr>\n",
       "  </thead>\n",
       "  <tbody>\n",
       "    <tr>\n",
       "      <td>count</td>\n",
       "      <td>103.000000</td>\n",
       "      <td>103.000000</td>\n",
       "    </tr>\n",
       "    <tr>\n",
       "      <td>mean</td>\n",
       "      <td>36.844660</td>\n",
       "      <td>2.116505</td>\n",
       "    </tr>\n",
       "    <tr>\n",
       "      <td>std</td>\n",
       "      <td>12.488235</td>\n",
       "      <td>1.592267</td>\n",
       "    </tr>\n",
       "    <tr>\n",
       "      <td>min</td>\n",
       "      <td>17.000000</td>\n",
       "      <td>0.000000</td>\n",
       "    </tr>\n",
       "    <tr>\n",
       "      <td>25%</td>\n",
       "      <td>26.500000</td>\n",
       "      <td>1.000000</td>\n",
       "    </tr>\n",
       "    <tr>\n",
       "      <td>50%</td>\n",
       "      <td>35.000000</td>\n",
       "      <td>2.000000</td>\n",
       "    </tr>\n",
       "    <tr>\n",
       "      <td>75%</td>\n",
       "      <td>46.500000</td>\n",
       "      <td>3.000000</td>\n",
       "    </tr>\n",
       "    <tr>\n",
       "      <td>max</td>\n",
       "      <td>65.000000</td>\n",
       "      <td>6.000000</td>\n",
       "    </tr>\n",
       "  </tbody>\n",
       "</table>\n",
       "</div>"
      ],
      "text/plain": [
       "              age    previous\n",
       "count  103.000000  103.000000\n",
       "mean    36.844660    2.116505\n",
       "std     12.488235    1.592267\n",
       "min     17.000000    0.000000\n",
       "25%     26.500000    1.000000\n",
       "50%     35.000000    2.000000\n",
       "75%     46.500000    3.000000\n",
       "max     65.000000    6.000000"
      ]
     },
     "execution_count": 12,
     "metadata": {},
     "output_type": "execute_result"
    }
   ],
   "source": [
    "ytl.describe()"
   ]
  },
  {
   "cell_type": "markdown",
   "metadata": {},
   "source": [
    "\"ytl.describe()\" code shows us only numeric data and information about them. \n",
    "Count means how much people this data has.\n",
    "Mean means how much their mean is and mean can be found by adding all indexes and dividing it to the numbers of indexes, for example mean age of these people is 36,84.\n",
    "Std means that by how much some numbers differ from others in the group.\n",
    "Min means which is minimum index, for example minimum age is 17.\n",
    "25%, 50%, 75% means, for example, 25% of the people is 26,5.\n",
    "Max means which is maximum index, for example maximum age is 65."
   ]
  },
  {
   "cell_type": "code",
   "execution_count": 17,
   "metadata": {},
   "outputs": [
    {
     "data": {
      "image/png": "[encoded data removed]",
      "text/plain": [
       "<Figure size 432x288 with 1 Axes>"
      ]
     },
     "metadata": {
      "needs_background": "light"
     },
     "output_type": "display_data"
    }
   ],
   "source": [
    "ax = sns.barplot(x ='previous', y= 'age', hue= 'loan', data=ytl)"
   ]
  },
  {
   "cell_type": "markdown",
   "metadata": {},
   "source": [
    "sns.barplot gives as an illustration of variables by charts. So, here we can find how much previous loans had people at the different ages, and also do they have current loans or not. 'previous' is at the x axis, 'age' is at the y axis."
   ]
  },
  {
   "cell_type": "code",
   "execution_count": 22,
   "metadata": {},
   "outputs": [
    {
     "data": {
      "image/png": "[encoded data removed]",
      "text/plain": [
       "<Figure size 432x288 with 1 Axes>"
      ]
     },
     "metadata": {
      "needs_background": "light"
     },
     "output_type": "display_data"
    }
   ],
   "source": [
    "ax = sns.barplot(x ='loan', y= 'age', hue= 'house', data=ytl)"
   ]
  },
  {
   "cell_type": "markdown",
   "metadata": {},
   "source": [
    "In this bar chart we can see the information about individuals at different ages and information about housing and loan. According to this chart the people at age from 0-39 has house and loan. But people at age from 0-35 do not have a house and loan. This variables are related to each other. "
   ]
  },
  {
   "cell_type": "code",
   "execution_count": 27,
   "metadata": {},
   "outputs": [
    {
     "data": {
      "image/png": "[encoded data removed]",
      "text/plain": [
       "<Figure size 432x288 with 1 Axes>"
      ]
     },
     "metadata": {
      "needs_background": "light"
     },
     "output_type": "display_data"
    }
   ],
   "source": [
    "ax = sns.barplot(x ='previous', y= 'age', hue= 'kids', data=ytl)"
   ]
  },
  {
   "cell_type": "markdown",
   "metadata": {},
   "source": [
    "This is the illustration of relation of previous loans and kids of people at different ages. "
   ]
  },
  {
   "cell_type": "code",
   "execution_count": 33,
   "metadata": {},
   "outputs": [
    {
     "data": {
      "image/png": "[encoded data removed]",
      "text/plain": [
       "<Figure size 432x288 with 1 Axes>"
      ]
     },
     "metadata": {
      "needs_background": "light"
     },
     "output_type": "display_data"
    }
   ],
   "source": [
    "ax = sns.barplot(x ='previous', y= 'age', hue= 'gender', data=ytl)"
   ]
  },
  {
   "cell_type": "markdown",
   "metadata": {},
   "source": [
    "in this chart we can see the information about loans had representatives of special gender(at the different age). Male's number of previous loans are bigger than females. "
   ]
  },
  {
   "cell_type": "code",
   "execution_count": 37,
   "metadata": {},
   "outputs": [
    {
     "data": {
      "image/png": "[encoded data removed]",
      "text/plain": [
       "<Figure size 432x288 with 1 Axes>"
      ]
     },
     "metadata": {
      "needs_background": "light"
     },
     "output_type": "display_data"
    }
   ],
   "source": [
    "ax = sns.barplot(x ='house', y= 'age', hue= 'marital status', data=ytl)"
   ]
  },
  {
   "cell_type": "markdown",
   "metadata": {},
   "source": [
    "by this chart we can understand the relationship between presence of house and marital status of different people. According to this chart, the number of housing of married people is bigger than others."
   ]
  },
  {
   "cell_type": "code",
   "execution_count": null,
   "metadata": {},
   "outputs": [],
   "source": []
  }
 ],
 "metadata": {
  "kernelspec": {
   "display_name": "Python 3",
   "language": "python",
   "name": "python3"
  },
  "language_info": {
   "codemirror_mode": {
    "name": "ipython",
    "version": 3
   },
   "file_extension": ".py",
   "mimetype": "text/x-python",
   "name": "python",
   "nbconvert_exporter": "python",
   "pygments_lexer": "ipython3",
   "version": "3.7.4"
  }
 },
 "nbformat": 4,
 "nbformat_minor": 2
}
